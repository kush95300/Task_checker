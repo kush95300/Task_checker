{
 "cells": [
  {
   "cell_type": "markdown",
   "metadata": {},
   "source": [
    "# Task Checker"
   ]
  },
  {
   "cell_type": "markdown",
   "metadata": {},
   "source": [
    "## Importing Libs"
   ]
  },
  {
   "cell_type": "code",
   "execution_count": 1,
   "metadata": {},
   "outputs": [],
   "source": [
    "import pandas as pd\n",
    "import os"
   ]
  },
  {
   "cell_type": "markdown",
   "metadata": {},
   "source": [
    "## Common Parameters"
   ]
  },
  {
   "cell_type": "code",
   "execution_count": 2,
   "metadata": {},
   "outputs": [],
   "source": [
    "# Required\n",
    "teamfile=\"team.xlsx\"                           # main or Team File where your group list is there\n",
    "grp_change=True                                # want to change group tag\n",
    "grp_heading=\"LW-ARTH WhatsApp Group Number\"    # Column Name of Group heading in each file\n",
    "name_heading = \"Name\"                          # Column Name of Learner's name heading in each file\n",
    "watsapp_no = \"WhatsApp Number\"                 # Column Name of Learner's watsapp no heading in each file\n"
   ]
  },
  {
   "cell_type": "markdown",
   "metadata": {},
   "source": [
    "## Other Parameters ( For special usecase)"
   ]
  },
  {
   "cell_type": "code",
   "execution_count": null,
   "metadata": {},
   "outputs": [],
   "source": [
    "taskfile=['a1.xlsx','a2.xlsx','a3.xlsx']      # for retrive all data only use this parameter\n",
    "taskdata=[]                                   # List taht will contain all data\n",
    "mygrp = 11                                    # your group\n",
    "\n",
    "column_is_same=True          # all column name are same for desired tssks\n",
    "\n",
    "\n",
    "# column names for same column name\n",
    "grp_heading=\"LW-ARTH WhatsApp Group Number\"\n",
    "name_heading = \"Name\"\n",
    "watsapp_no = \"WhatsApp Number\"\n",
    "\n",
    "\n",
    "# column names for diff column name      It should be same length as taskfile.\n",
    "grp_head=[\"grp\",\"grp\"]\n",
    "name_head = [\"Name\",\"Name\",\"Name\"]\n",
    "watsapp_no_head = [\"WhatsApp Number\",\"WhatsApp Number\",\"WhatsApp Number\"]\n",
    "\n"
   ]
  },
  {
   "cell_type": "markdown",
   "metadata": {},
   "source": [
    "## Specific Task Checker Parameters"
   ]
  },
  {
   "cell_type": "code",
   "execution_count": 3,
   "metadata": {},
   "outputs": [],
   "source": [
    "# For Specific Task Check Required Parameters are\n",
    "\n",
    "Task=17                                    # Task to check\n",
    "specific_file = \"Task{}.xlsx\" .format(Task)            # File path where task data is there \n",
    "create_task_folder=True                   # Create a folder for task processed data \n",
    "group=11                                  # Group whose student we have to check \n",
    "task_column_name=\"task17\"                 # Column name in Team file where yes/no will be written.\n",
    "path=\"\""
   ]
  },
  {
   "cell_type": "markdown",
   "metadata": {},
   "source": [
    "## Multiple Task Checker Parameters"
   ]
  },
  {
   "cell_type": "code",
   "execution_count": 3,
   "metadata": {},
   "outputs": [],
   "source": [
    "# For Many Task Check Required Parameters are\n",
    "\n",
    "# Task List to check\n",
    "Task=[14,15,16,17]  \n",
    "\n",
    "# File path list where task data is there\n",
    "multi_file = [\"Task{}.xlsx\" .format(Task[0]), \"Task{}.xlsx\" .format(Task[1]), \"Task{}.xlsx\" .format(Task[2]), \"Task{}.xlsx\" .format(Task[3])]           \n",
    "\n",
    "# Create a folder for task processed data\n",
    "create_task_folder=[True,True,True,True]                   # Create a folder for task processed data \n",
    "\n",
    "group=11                                  # Group whose student we have to check \n",
    "\n",
    "# Column name in Team file where yes/no will be written.\n",
    "task_column_name=[\"task14\",\"task15\",\"task16\",\"task17\"] \n",
    "\n",
    "extra_folder=True\n",
    "\n"
   ]
  },
  {
   "cell_type": "markdown",
   "metadata": {},
   "source": [
    "# Functions"
   ]
  },
  {
   "cell_type": "markdown",
   "metadata": {},
   "source": [
    "## Common Functions "
   ]
  },
  {
   "cell_type": "code",
   "execution_count": 4,
   "metadata": {},
   "outputs": [],
   "source": [
    "def change_grp_tags(grp):\n",
    "    \"\"\"\n",
    "    changes groups tag to integer tag.\n",
    "    Like: LW_ARTH-12  to 12.\n",
    "    \n",
    "    \"\"\"\n",
    "    if(grp_change):\n",
    "        data=grp.copy()\n",
    "        for i in range(1,19):\n",
    "            i=str(i)\n",
    "            for j in range(len(grp)):\n",
    "                if(type(grp[j])!= int):                \n",
    "                    if i in grp[j]:\n",
    "                        data[j]=int(i)\n",
    "        return data\n",
    "    else:\n",
    "        return grp\n",
    "            \n",
    "\n",
    "\n",
    "\n",
    "def get_specific_task_data(file):\n",
    "    \"\"\"\n",
    "            TO get data of specific task only.\n",
    "    \"\"\"\n",
    "    data=pd.read_excel(file)\n",
    "    print(\"Specific Task data added. Shape = {}\".format(data.shape))\n",
    "    return data\n",
    "\n",
    "\n",
    "\n",
    "def get_successful_task_learner_specific_grp(data, grp, name_heading=name_heading, watsapp_no=watsapp_no, grp_heading=grp_heading ):\n",
    "    \"\"\"\n",
    "    To get list of all valid member who successfully completed task with group no grp.\n",
    "    here, \n",
    "    data= whole dataset of task (specific dataset), \n",
    "    name_heading, watsapp_no, grp_heading are column name.\n",
    "    \n",
    "    returns tuple of valid member names and whatsapp no. (name, whatsapp no)\n",
    "    \n",
    "    \"\"\"\n",
    "    \n",
    "    names = data[name_heading]\n",
    "    whats_app= data[watsapp_no]\n",
    "    groups = data[grp_heading]\n",
    "    valid_member_name=[]\n",
    "    valid_member_no = []\n",
    "    \n",
    "    for i in range(len(groups)):\n",
    "        if groups[i]==grp:\n",
    "            valid_member_name.append(names[i])\n",
    "            valid_member_no.append(whats_app[i])\n",
    "    return (valid_member_name,valid_member_no)\n",
    "\n",
    "\n",
    "\n",
    "def check_task(teamdata, valid_member, task_column_name):\n",
    "    team_list=teamdata['Name']\n",
    "    t=teamdata[task_column_name]\n",
    "    notchecked=[]\n",
    "    checked=[]\n",
    "    for i in range(len(valid_member)):\n",
    "        check=False\n",
    "        for j in range(len(team_list)):\n",
    "            if (type(team_list[j])== str):\n",
    "                if valid_member[i].upper() == team_list[j].upper():\n",
    "                    t[j]=\"yes\"\n",
    "                    check=True                           \n",
    "        if not check:\n",
    "            notchecked.append(valid_member[i])\n",
    "        else:\n",
    "            checked.append(valid_member[i])\n",
    "    return (valid_member, checked, notchecked)\n",
    "                \n",
    "     \n",
    "def complete_specific_task_check(path,Task,group,specific_file,create_task_folder,task_column_name):\n",
    "    \n",
    "    if create_task_folder:\n",
    "        os.mkdir(path+\"Task{}\".format(Task))\n",
    "        path=path+\"Task{}/\".format(Task)\n",
    "    data = get_specific_task_data(specific_file)\n",
    "    grp=data[grp_heading]\n",
    "    grp=change_grp_tags(grp)\n",
    "    data[grp_heading]=grp\n",
    "    data.to_excel(\"{}Updated_data.xlsx\".format(path))\n",
    "    v_user=get_successful_task_learner_specific_grp(data=data, grp=group)\n",
    "    print(\"valid user List are : \",v_user)\n",
    "    with open(\"{}valid_user_data.txt\".format(path), 'w') as f:\n",
    "        for item in v_user:\n",
    "            f.write(\"%s\\n\" % item)\n",
    "\n",
    "    teamdata=pd.read_excel(teamfile)\n",
    "    v,c,u=check_task(task_column_name=task_column_name,teamdata=teamdata,valid_member=v_user[0])\n",
    "    print(\"Total: {},  Checked: {}  , Unchecked: {}\".format(len(v),len(c),len(u)))\n",
    "    teamdata.to_excel(\"{}final.xlsx\".format(path))\n",
    "    with open(\"{}valid_user.txt\".format(path), 'w') as f:\n",
    "        for item in v:\n",
    "            f.write(\"%s\\n\" % item)\n",
    "    with open(\"{}checked_user.txt\".format(path), 'w') as f:\n",
    "        for item in c:\n",
    "            f.write(\"%s\\n\" % item)\n",
    "    with open(\"{}unchecked_user.txt\".format(path), 'w') as f:\n",
    "        for item in u:\n",
    "            f.write(\"%s\\n\" % item)\n",
    "            \n"
   ]
  },
  {
   "cell_type": "markdown",
   "metadata": {},
   "source": [
    "## Function for multiple task check ( only include for multi task check)"
   ]
  },
  {
   "cell_type": "code",
   "execution_count": 7,
   "metadata": {},
   "outputs": [],
   "source": [
    "            \n",
    "def complete_all_task_check(Task,group,multi_file,create_task_folder,task_column_name):\n",
    "    if extra_folder:\n",
    "        os.mkdir(\"Output\")\n",
    "        path=\"Output/\"\n",
    "    else:\n",
    "        path=\"\"\n",
    "    for i in range(len(Task)):\n",
    "        print(\"Task{} checking : \\n\".format(Task[i]))\n",
    "        complete_specific_task_check(Task=Task[i],create_task_folder=create_task_folder[i],group=group,path=path,specific_file=multi_file[i],task_column_name=task_column_name[i])\n",
    "        print(\"\\n\\n\")\n",
    "                  \n"
   ]
  },
  {
   "cell_type": "markdown",
   "metadata": {},
   "source": [
    "## Other Function for special usecases"
   ]
  },
  {
   "cell_type": "code",
   "execution_count": null,
   "metadata": {},
   "outputs": [],
   "source": [
    "def check_condition(taskfile):\n",
    "    if (len(grp_head)==len(taskfile) and len(name_head)==len(taskfile) and len(watsapp_no_head)==len(taskfile)):\n",
    "        value=True\n",
    "    else:\n",
    "        value=False\n",
    "    return value\n",
    "\n",
    "def get_all_task_data(taskfile,taskdata):\n",
    "    \"\"\"\n",
    "            TO get data of all task in taskdata list.\n",
    "    \"\"\"\n",
    "    for i in range(len(taskfile)):\n",
    "        taskdata.append(pd.read_excel(taskfile[i]))\n",
    "        print(\"Task {} data added. Shape = {}\".format(i+1,taskdata[i].shape))\n",
    "\n",
    "\n",
    "def get_successful_task_learner_all_grp(taskfile,taskdata,mygrp):\n",
    "    \"\"\"\n",
    "    To get list of all valid member of all tasks who successfully completed task with group no grp.\n",
    "    \n",
    "    returns tuple of valid member names and whatsapp no. (name, whatsapp no)\n",
    "    \n",
    "    \"\"\"\n",
    "    \n",
    "    valid_member_name=[]\n",
    "    valid_member_no = []\n",
    "    \n",
    "    for i in range(len(taskfile)):\n",
    "        if(column_is_same==True):\n",
    "            names= taskdata[i][name_heading]\n",
    "            whats_app= taskdata[i][watsapp_no]\n",
    "            groups = taskdata[i][grp_heading]\n",
    "            valid_name=[]\n",
    "            valid_no = []\n",
    "            for j in range(len(groups)):\n",
    "                if groups[j]==mygrp:\n",
    "                    valid_name.append(names[j])\n",
    "                    valid_no.append(whats_app[j])\n",
    "            valid_member_name.append(valid_name)\n",
    "            valid_member_no.append(valid_no)\n",
    "        else:\n",
    "            if check_condition():\n",
    "                names= taskdata[i][name_head[i]]\n",
    "                whats_app= taskdata[i][watsapp_no_head[i]]\n",
    "                groups = taskdata[i][grp_head[i]]\n",
    "                valid_name=[]\n",
    "                valid_no = []\n",
    "                for j in range(len(groups)):\n",
    "                    if groups[j]==mygrp:\n",
    "                        valid_name.append(names[j])\n",
    "                        valid_no.append(whats_app[j])\n",
    "                valid_member_name.append(valid_name)\n",
    "                valid_member_no.append(valid_no)\n",
    "            else:\n",
    "                print(\"Column Mismatched. Column list should be same as taskfile length.\")\n",
    "                return\n",
    "    return (valid_member_name,valid_member_no)\n"
   ]
  },
  {
   "cell_type": "markdown",
   "metadata": {},
   "source": [
    "# For Specific Task Check"
   ]
  },
  {
   "cell_type": "code",
   "execution_count": 5,
   "metadata": {},
   "outputs": [
    {
     "name": "stdout",
     "output_type": "stream",
     "text": [
      "Specific Task data added. Shape = (129, 9)\n",
      "valid user List are :  (['Vishal Yadav', 'Rahul Bhardwaj', 'Anurag Hansraj Yadav', 'Neha Sonone', 'Rutuja Konde', 'Gaurav', 'Kavin Krishna Prasad M', 'Abhishek Kesare', 'Ankit Mahajan'], [8318699682, 8628922046, 8291741756, 8928292334, 7888164295, 9416392644, 9715684855, 9022841846, 6005106632])\n"
     ]
    },
    {
     "name": "stderr",
     "output_type": "stream",
     "text": [
      "C:\\ProgramData\\Anaconda3\\lib\\site-packages\\ipykernel_launcher.py:67: SettingWithCopyWarning: \n",
      "A value is trying to be set on a copy of a slice from a DataFrame\n",
      "\n",
      "See the caveats in the documentation: http://pandas.pydata.org/pandas-docs/stable/indexing.html#indexing-view-versus-copy\n",
      "C:\\ProgramData\\Anaconda3\\lib\\site-packages\\pandas\\core\\indexing.py:189: SettingWithCopyWarning: \n",
      "A value is trying to be set on a copy of a slice from a DataFrame\n",
      "\n",
      "See the caveats in the documentation: http://pandas.pydata.org/pandas-docs/stable/indexing.html#indexing-view-versus-copy\n",
      "  self._setitem_with_indexer(indexer, value)\n"
     ]
    },
    {
     "name": "stdout",
     "output_type": "stream",
     "text": [
      "Total: 9,  Checked: 9  , Unchecked: 0\n"
     ]
    }
   ],
   "source": [
    "#Just Run This Function to check specific task\n",
    "complete_specific_task_check(Task=Task,specific_file=specific_file,create_task_folder=create_task_folder,group=group,path=path,task_column_name=task_column_name)\n"
   ]
  },
  {
   "cell_type": "markdown",
   "metadata": {},
   "source": [
    "# For Multiple Task Check"
   ]
  },
  {
   "cell_type": "code",
   "execution_count": 9,
   "metadata": {},
   "outputs": [
    {
     "name": "stdout",
     "output_type": "stream",
     "text": [
      "Task14 checking : \n",
      "Specific Task data added. Shape = (82, 10)\n",
      "valid user List are :  (['Kavin Krishna Prasad M', 'Anurag Hansraj Yadav', 'Rutuja Konde', 'Patel Mihir Jashavantbhai', 'Gaurav', 'Ankit Mahajan'], [9715684855, 8291741756, 7888164295, 6359424592, 9416362644, 6005106632])\n"
     ]
    },
    {
     "name": "stderr",
     "output_type": "stream",
     "text": [
      "C:\\ProgramData\\Anaconda3\\lib\\site-packages\\ipykernel_launcher.py:67: SettingWithCopyWarning: \n",
      "A value is trying to be set on a copy of a slice from a DataFrame\n",
      "\n",
      "See the caveats in the documentation: http://pandas.pydata.org/pandas-docs/stable/indexing.html#indexing-view-versus-copy\n",
      "C:\\ProgramData\\Anaconda3\\lib\\site-packages\\pandas\\core\\indexing.py:189: SettingWithCopyWarning: \n",
      "A value is trying to be set on a copy of a slice from a DataFrame\n",
      "\n",
      "See the caveats in the documentation: http://pandas.pydata.org/pandas-docs/stable/indexing.html#indexing-view-versus-copy\n",
      "  self._setitem_with_indexer(indexer, value)\n"
     ]
    },
    {
     "name": "stdout",
     "output_type": "stream",
     "text": [
      "Total: 6,  Checked: 6  , Unchecked: 0\n",
      "\n",
      "\n",
      "\n",
      "Task15 checking : \n",
      "Specific Task data added. Shape = (158, 9)\n",
      "valid user List are :  (['PRITHVI A PARIT', 'Kavin Krishna Prasad M', 'Sachin Kumar', 'Gautam Khatri', 'Rutuja Konde', 'Anurag Hansraj Yadav', 'Abhishek Prasad Kesare', 'Himanshi Kabra', 'Gaurav', 'satwika gunishetty', 'Patel Mihir Jashavantbhai'], [9739766647, 9715684855, 9084369325, 7665695060, 7888164295, 8291741756, 9022841846, 7597263442, 9416392644, 7013743937, 6359424592])\n",
      "Total: 11,  Checked: 9  , Unchecked: 2\n",
      "\n",
      "\n",
      "\n",
      "Task16 checking : \n",
      "Specific Task data added. Shape = (551, 8)\n",
      "valid user List are :  (['Gaurav Gupta', 'Rahul Bhardwaj', 'Abhiney', 'Neha Sonone', 'Ankit Mahajan', 'Rutuja Konde', 'Shalu Sikarwar', 'Simran Shrivas', 'Ashish Kumar', 'Abhishek Prasad Kesare', 'Jatin Singh Lodhi', 'Vishal Yadav', 'Anil yadav', 'Anurag Hansraj Yadav', 'Cherukumalli Sainadh', 'Rohit Bhatt', 'SHWETHA S', 'MADHUMITHA.G', 'Sachin Kumar', 'PRITHVI A PARIT', 'Mohd sabir', 'Gautam Khatri', 'Patel Mihir Jashavantbhai', 'Radhika Sharma', 'Harshil Shah', 'Gaurav', 'Kavin Krishna Prasad M', 'Dhiraj kumar', 'Kanakam Sushma', 'satwika gunishetty', 'Himanshi Kabra', 'Kratarth Paliwal', 'Patel Mihir Jashavantbhai', 'Simra  Shrivas'], [7668736879, 8628922046, 8368860090, 8928292334, 6005106632, 7888164295, 9685513277, 9407474088, 7568441216, 9022841846, 7587926117, 8318699682, 9555547992, 8291741756, 8919832365, 6395144660, 9947584355, 7358501316, 9084369325, 9739766647, 6395625841, 7665695060, 6359424592, 6377172773, 7383899351, 9416392644, 9715684855, 8507706642, 6305749266, 7013743937, 7597263442, 9644744865, 6359424592, 9407474088])\n",
      "Total: 34,  Checked: 25  , Unchecked: 9\n",
      "\n",
      "\n",
      "\n",
      "Task17 checking : \n",
      "Specific Task data added. Shape = (129, 9)\n",
      "valid user List are :  (['Vishal Yadav', 'Rahul Bhardwaj', 'Anurag Hansraj Yadav', 'Neha Sonone', 'Rutuja Konde', 'Gaurav', 'Kavin Krishna Prasad M', 'Abhishek Kesare', 'Ankit Mahajan'], [8318699682, 8628922046, 8291741756, 8928292334, 7888164295, 9416392644, 9715684855, 9022841846, 6005106632])\n",
      "Total: 9,  Checked: 9  , Unchecked: 0\n",
      "\n",
      "\n",
      "\n"
     ]
    }
   ],
   "source": [
    "#Just Run This Function to check tasks\n",
    "\n",
    "complete_all_task_check(Task=Task,group=group,multi_file=multi_file,create_task_folder=create_task_folder,task_column_name=task_column_name)"
   ]
  },
  {
   "cell_type": "markdown",
   "metadata": {},
   "source": [
    "# For Special Purpose"
   ]
  },
  {
   "cell_type": "code",
   "execution_count": null,
   "metadata": {},
   "outputs": [],
   "source": [
    "#All valid grp Dataset\n",
    "get_all_task_data()\n",
    "v_user=get_successful_task_learner_all_grp()\n",
    "print(v_user)\n",
    "            "
   ]
  },
  {
   "cell_type": "code",
   "execution_count": null,
   "metadata": {},
   "outputs": [],
   "source": []
  },
  {
   "cell_type": "code",
   "execution_count": null,
   "metadata": {},
   "outputs": [],
   "source": []
  },
  {
   "cell_type": "code",
   "execution_count": null,
   "metadata": {},
   "outputs": [],
   "source": []
  },
  {
   "cell_type": "code",
   "execution_count": null,
   "metadata": {},
   "outputs": [],
   "source": []
  }
 ],
 "metadata": {
  "kernelspec": {
   "display_name": "Python 3",
   "language": "python",
   "name": "python3"
  },
  "language_info": {
   "codemirror_mode": {
    "name": "ipython",
    "version": 3
   },
   "file_extension": ".py",
   "mimetype": "text/x-python",
   "name": "python",
   "nbconvert_exporter": "python",
   "pygments_lexer": "ipython3",
   "version": "3.6.5"
  }
 },
 "nbformat": 4,
 "nbformat_minor": 2
}
